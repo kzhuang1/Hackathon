{
 "cells": [
  {
   "cell_type": "code",
   "execution_count": null,
   "metadata": {},
   "outputs": [],
   "source": [
    "import panadas as pd\n",
    "\n",
    "df_logs = x\n",
    "\n",
    "X = df_logs.drop('RHOB', axis=1)\n",
    "y df_logs['RHOB'].apply(int)\n",
    "\n",
    "from sklearn.model_selection import train_test_split\n",
    "X_train, X_test, y_train, y_test = train_test_split(X, y, test_size=0.3)\n",
    "\n",
    "import tensorflow as tf\n",
    "feat_cols =[]\n",
    "for col in X.columns:\n",
    "    feat_cols.append(tf.feature_column.numeric_column(col))\n",
    "\n",
    "input_func = tf.estimator.inputs.pandas_input_fn(x=X_train,y=y_train,batch_size=10,num_epochs=5,shuffle=True)\n",
    "\n",
    "classifier = tf.estimator.DNNClassifier(hidden_units=[10, 20, 10], n_classes=3,feature_columns=feat_cols)\n",
    "\n",
    "classifier.train(input_fn=input_func,steps=50)\n",
    "\n",
    "pred_fn = tf.estimator.inputs.pandas_input_fn(x=X_test,batch_size=len(X_test),shuffle=False)\n",
    "\n",
    "note_predictions = list(classifier.predict(input_fn=pred_fn))\n",
    "\n",
    "final_preds  = []\n",
    "\n",
    "for pred in note_predictions:\n",
    "    final_preds.append(pred['class_ids'][0])\n",
    "    \n",
    "from sklearn.metrics import classification_report,confusion_matrix\n",
    "print(classification_report(y_test,final_preds))"
   ]
  }
 ],
 "metadata": {
  "kernelspec": {
   "display_name": "Python 3",
   "language": "python",
   "name": "python3"
  },
  "language_info": {
   "codemirror_mode": {
    "name": "ipython",
    "version": 3
   },
   "file_extension": ".py",
   "mimetype": "text/x-python",
   "name": "python",
   "nbconvert_exporter": "python",
   "pygments_lexer": "ipython3",
   "version": "3.6.6"
  }
 },
 "nbformat": 4,
 "nbformat_minor": 2
}
